{
 "cells": [
  {
   "cell_type": "code",
   "execution_count": 1,
   "id": "5054deac-7126-4380-b0a1-ff8baf4224ce",
   "metadata": {},
   "outputs": [],
   "source": [
    "import os\n",
    "import sys"
   ]
  },
  {
   "cell_type": "code",
   "execution_count": 2,
   "id": "b5f4436a-ff11-4c5a-a522-d5c6c63cb0e9",
   "metadata": {},
   "outputs": [],
   "source": [
    "repo_path = os.path.abspath(\".\")\n",
    "sys.path.append(repo_path)"
   ]
  },
  {
   "cell_type": "code",
   "execution_count": 62,
   "id": "43a8d7a7-5bf9-47bc-8498-57cb7662d39a",
   "metadata": {},
   "outputs": [],
   "source": [
    "import copy\n",
    "import datetime\n",
    "import logging\n",
    "import os\n",
    "import time\n",
    "from os.path import join\n",
    "\n",
    "import pandas as pd\n",
    "import torch\n",
    "import torch.backends.cudnn as cudnn\n",
    "import torch.distributed as dist\n",
    "import wandb\n",
    "import numpy as np\n",
    "\n",
    "from dataset import MetaLoader\n",
    "from models.umt import UMT\n",
    "from tasks.pretrain import setup_dataloaders\n",
    "from tasks.retrieval_utils import evaluation_wrapper\n",
    "from tasks.shared_utils import setup_model\n",
    "from utils.basic_utils import MetricLogger, SmoothedValue, setup_seed\n",
    "from utils.config import Config\n",
    "from utils.config_utils import setup_main\n",
    "from utils.distributed import get_rank, is_main_process\n",
    "from utils.logger import log_dict_to_wandb, setup_wandb"
   ]
  },
  {
   "cell_type": "code",
   "execution_count": 8,
   "id": "741bca92-a5f3-4411-9b8e-fece1ff31bdf",
   "metadata": {},
   "outputs": [],
   "source": [
    "from utils.config import Config"
   ]
  },
  {
   "cell_type": "code",
   "execution_count": 9,
   "id": "65191471-46fc-47b5-b661-da44aa84807d",
   "metadata": {},
   "outputs": [],
   "source": [
    "config = Config.from_file(filepath=\"./exp/zero_shot/ret_msrvtt/b16.py\")"
   ]
  },
  {
   "cell_type": "code",
   "execution_count": 10,
   "id": "c0b0c83d-5e23-4a5a-9c61-b07c0bcfe987",
   "metadata": {},
   "outputs": [
    {
     "data": {
      "text/plain": [
       "{'data_dir': 'your_data_path/anno',\n",
       " 'data_root': 'your_data_path/anno/videos_images',\n",
       " 'anno_root_pt': 'your_data_path/anno/anno_pretrain',\n",
       " 'anno_root_downstream': 'your_data_path/anno/anno_downstream',\n",
       " 'TextEncoders': {'bert': {'name': 'bert_base',\n",
       "   'pretrained': 'bert-base-uncased',\n",
       "   'config': 'configs/config_bert.json',\n",
       "   'd_model': 768,\n",
       "   'fusion_layer': 9},\n",
       "  'bert_large': {'name': 'bert_large',\n",
       "   'pretrained': 'bert-large-uncased',\n",
       "   'config': 'configs/config_bert_large.json',\n",
       "   'd_model': 1024,\n",
       "   'fusion_layer': 19}},\n",
       " 'train_file': ['your_data_path/anno/anno_downstream/msrvtt_ret_train9k.json',\n",
       "  'your_msrvtt_path',\n",
       "  'video'],\n",
       " 'test_file': {'test': ['your_data_path/anno/anno_downstream/msrvtt_ret_test1k.json',\n",
       "   'your_msrvtt_path',\n",
       "   'video']},\n",
       " 'test_types': ['test'],\n",
       " 'num_workers': 6,\n",
       " 'stop_key': 'test/',\n",
       " 'is_paragraph_retrieval': False,\n",
       " 'num_frames': 4,\n",
       " 'num_frames_test': 4,\n",
       " 'batch_size': 32,\n",
       " 'max_txt_l': 32,\n",
       " 'inputs': {'image_res': 224,\n",
       "  'video_input': {'num_frames': '${num_frames}',\n",
       "   'sample_type': 'rand',\n",
       "   'num_frames_test': '${num_frames_test}',\n",
       "   'sample_type_test': 'middle',\n",
       "   'random_aug': False},\n",
       "  'max_txt_l': {'image': '${max_txt_l}', 'video': '${max_txt_l}'},\n",
       "  'batch_size': {'image': '${batch_size}', 'video': '${batch_size}'},\n",
       "  'batch_size_test': {'image': '${batch_size}', 'video': '${batch_size}'}},\n",
       " 'text_enc': 'bert',\n",
       " 'model': {'model_cls': 'UMT',\n",
       "  'vision_encoder': {'name': 'vit_b16',\n",
       "   'img_size': 224,\n",
       "   'patch_size': 16,\n",
       "   'd_model': 768,\n",
       "   'encoder_embed_dim': 768,\n",
       "   'encoder_depth': 12,\n",
       "   'encoder_num_heads': 12,\n",
       "   'drop_path_rate': 0.2,\n",
       "   'num_frames': '${num_frames}',\n",
       "   'tubelet_size': 1,\n",
       "   'use_checkpoint': True,\n",
       "   'checkpoint_num': 12,\n",
       "   'clip_decoder_embed_dim': 768,\n",
       "   'clip_output_dim': 512,\n",
       "   'clip_return_layer': 0,\n",
       "   'clip_student_return_interval': 1,\n",
       "   'pretrained': 'your_model_path/b16_ptk710_f8_res224.pth',\n",
       "   'clip_teacher': 'none',\n",
       "   'clip_img_size': 224,\n",
       "   'clip_return_interval': 1,\n",
       "   'video_mask_type': 'attention',\n",
       "   'video_mask_ratio': 0.0,\n",
       "   'video_double_mask_ratio': 0.0,\n",
       "   'image_mask_type': 'attention',\n",
       "   'image_mask_ratio': 0.0,\n",
       "   'image_double_mask_ratio': 0.0,\n",
       "   'keep_temporal': True},\n",
       "  'text_encoder': '${TextEncoders[${text_enc}]}',\n",
       "  'multimodal': {'enable': True},\n",
       "  'embed_dim': 512,\n",
       "  'temp': 0.07},\n",
       " 'criterion': {'loss_weight': {'vtc': 1.0, 'mlm': 0.0, 'vtm': 1.0, 'uta': 0.0},\n",
       "  'vtm_hard_neg': True,\n",
       "  'mlm_masking_prob': 0.5,\n",
       "  'uta_norm_type': 'l2',\n",
       "  'uta_loss_type': 'l2'},\n",
       " 'optimizer': {'opt': 'adamW',\n",
       "  'lr': 2e-05,\n",
       "  'opt_betas': [0.9, 0.999],\n",
       "  'weight_decay': 0.02,\n",
       "  'max_grad_norm': -1,\n",
       "  'different_lr': {'enable': False, 'module_names': [], 'lr': 0.001}},\n",
       " 'scheduler': {'sched': 'cosine',\n",
       "  'epochs': 7,\n",
       "  'min_lr_multi': 0.01,\n",
       "  'warmup_epochs': 1},\n",
       " 'evaluate': True,\n",
       " 'deep_fusion': False,\n",
       " 'evaluation': {'eval_frame_ensemble': 'concat',\n",
       "  'eval_x_only': False,\n",
       "  'k_test': 128,\n",
       "  'eval_offload': True},\n",
       " 'fp16': True,\n",
       " 'gradient_checkpointing': True,\n",
       " 'wandb': {'enable': False, 'entity': 'user', 'project': 'umt'},\n",
       " 'dist_url': 'env://',\n",
       " 'device': 'cuda',\n",
       " 'mode': 'pt',\n",
       " 'output_dir': None,\n",
       " 'resume': False,\n",
       " 'debug': False,\n",
       " 'log_freq': 100,\n",
       " 'seed': 42,\n",
       " 'zero_shot': True,\n",
       " 'save_latest': True,\n",
       " 'auto_resume': True,\n",
       " 'pretrained_path': ''}"
      ]
     },
     "execution_count": 10,
     "metadata": {},
     "output_type": "execute_result"
    }
   ],
   "source": [
    "config"
   ]
  },
  {
   "cell_type": "code",
   "execution_count": 13,
   "id": "5e357fdc-6476-42e8-bbfb-4afb577176be",
   "metadata": {},
   "outputs": [
    {
     "name": "stdout",
     "output_type": "stream",
     "text": [
      "/work/piyush/pretrained_checkpoints/LargeModels/UnmaskedTeachers/b16_25m.pth\n"
     ]
    }
   ],
   "source": [
    "!ls /work/piyush/pretrained_checkpoints/LargeModels/UnmaskedTeachers/b16_25m.pth"
   ]
  },
  {
   "cell_type": "code",
   "execution_count": 15,
   "id": "f35b8b2d-3f97-4d01-b557-45f8884e9f25",
   "metadata": {},
   "outputs": [],
   "source": [
    "# Setup path to pre-trained checkpoint\n",
    "config.pretrained_path = \"/work/piyush/pretrained_checkpoints/LargeModels/UnmaskedTeachers/b16_25m.pth\""
   ]
  },
  {
   "cell_type": "code",
   "execution_count": 23,
   "id": "32cfe1b5-9197-434c-96df-55228f712f1a",
   "metadata": {},
   "outputs": [],
   "source": [
    "from configs.model import *"
   ]
  },
  {
   "cell_type": "code",
   "execution_count": 26,
   "id": "d8ece0c2-c5c0-478b-97bc-0626c2b8d074",
   "metadata": {},
   "outputs": [],
   "source": [
    "# Define the text encoder\n",
    "config.model.text_encoder = TextEncoders[\"bert\"]"
   ]
  },
  {
   "cell_type": "code",
   "execution_count": 40,
   "id": "5b31ce24-c356-416c-9faa-2273ed16e264",
   "metadata": {},
   "outputs": [],
   "source": [
    "config.model.vision_encoder.num_frames = config.num_frames"
   ]
  },
  {
   "cell_type": "code",
   "execution_count": 48,
   "id": "5d29b310-3e96-4227-9a89-f435ea2c053a",
   "metadata": {},
   "outputs": [],
   "source": [
    "config.distributed = False"
   ]
  },
  {
   "cell_type": "code",
   "execution_count": 56,
   "id": "42ee7efc-1d53-4c68-b033-4781bdd7a5e0",
   "metadata": {},
   "outputs": [],
   "source": [
    "config.scheduler.num_warmup_steps = 1\n",
    "config.scheduler.num_training_steps = 1\n",
    "config.auto_resume = False"
   ]
  },
  {
   "cell_type": "code",
   "execution_count": 41,
   "id": "c6a1c18a-50f0-45a6-aeb7-6ed5877065fb",
   "metadata": {},
   "outputs": [],
   "source": [
    "setup_seed(config.seed + get_rank())\n",
    "device = torch.device(config.device)\n",
    "cudnn.benchmark = True"
   ]
  },
  {
   "cell_type": "code",
   "execution_count": null,
   "id": "4d1c74b5-36ce-4212-a866-039bbe02c66a",
   "metadata": {},
   "outputs": [],
   "source": []
  },
  {
   "cell_type": "code",
   "execution_count": 45,
   "id": "7a644a3f-fbfd-4a01-9134-1bfeec45ae36",
   "metadata": {},
   "outputs": [],
   "source": [
    "ckpt_root = \"/work/piyush/pretrained_checkpoints/LargeModels/UnmaskedTeachers/\"\n",
    "config.model.vision_encoder.pretrained = os.path.join(ckpt_root, \"b16_ptk710_f8_res224.pth\")"
   ]
  },
  {
   "cell_type": "code",
   "execution_count": 57,
   "id": "7631fa87-cd14-42e4-9485-395513e4daef",
   "metadata": {},
   "outputs": [
    {
     "name": "stderr",
     "output_type": "stream",
     "text": [
      "/users/piyush/install/miniconda3/envs/vl/lib/python3.9/site-packages/huggingface_hub/file_download.py:1132: FutureWarning: `resume_download` is deprecated and will be removed in version 1.0.0. Downloads always resume when possible. If you want to force a new download, use `force_download=True`.\n",
      "  warnings.warn(\n"
     ]
    }
   ],
   "source": [
    "model_cls = eval(config.model.get('model_cls', 'UMT'))\n",
    "(\n",
    "    model,\n",
    "    model_without_ddp,\n",
    "    optimizer,\n",
    "    scheduler,\n",
    "    scaler,\n",
    "    tokenizer,\n",
    "    start_epoch,\n",
    "    global_step,\n",
    ") = setup_model(\n",
    "    config,\n",
    "    model_cls=model_cls,\n",
    "    has_decoder=False,\n",
    "    pretrain=False,\n",
    "    # find_unused_parameters=True,\n",
    "    find_unused_parameters=False,\n",
    ")"
   ]
  },
  {
   "cell_type": "code",
   "execution_count": 63,
   "id": "3f8e85c4-62b5-49ac-b60e-46388d891223",
   "metadata": {},
   "outputs": [
    {
     "data": {
      "text/plain": [
       "202.411267"
      ]
     },
     "execution_count": 63,
     "metadata": {},
     "output_type": "execute_result"
    }
   ],
   "source": [
    "np.sum([p.numel() for p in model.parameters()]) / 1e6"
   ]
  },
  {
   "cell_type": "code",
   "execution_count": null,
   "id": "ec786497-841c-41a6-8cfc-ddc9b3106f8a",
   "metadata": {},
   "outputs": [],
   "source": []
  }
 ],
 "metadata": {
  "kernelspec": {
   "display_name": "Python 3 (ipykernel)",
   "language": "python",
   "name": "python3"
  },
  "language_info": {
   "codemirror_mode": {
    "name": "ipython",
    "version": 3
   },
   "file_extension": ".py",
   "mimetype": "text/x-python",
   "name": "python",
   "nbconvert_exporter": "python",
   "pygments_lexer": "ipython3",
   "version": "3.9.19"
  }
 },
 "nbformat": 4,
 "nbformat_minor": 5
}
